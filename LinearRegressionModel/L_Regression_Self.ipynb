{
 "cells": [
  {
   "cell_type": "markdown",
   "metadata": {},
   "source": [
    "Linear Regression Model From Scratch\n",
    "(No Sklearn)"
   ]
  },
  {
   "cell_type": "code",
   "execution_count": 40,
   "metadata": {},
   "outputs": [],
   "source": [
    "import numpy as np\n",
    "import matplotlib.pyplot as plt\n",
    "import yfinance as yf\n",
    "import pandas as pd\n",
    "import random "
   ]
  },
  {
   "cell_type": "markdown",
   "metadata": {},
   "source": [
    "Main Ideas we need to cover:\n",
    "1) Use least-squares to fit a line to the data\n",
    "2) Calculate R^2\n",
    "3) Calculate a p-value for R^2"
   ]
  },
  {
   "cell_type": "code",
   "execution_count": 41,
   "metadata": {},
   "outputs": [
    {
     "name": "stderr",
     "output_type": "stream",
     "text": [
      "[*********************100%***********************]  1 of 1 completed"
     ]
    },
    {
     "name": "stdout",
     "output_type": "stream",
     "text": [
      "Price           Close       High        Low       Open     Volume\n",
      "Ticker           AAPL       AAPL       AAPL       AAPL       AAPL\n",
      "Date                                                             \n",
      "2020-01-02  72.716064  72.776591  71.466805  71.721011  135480400\n",
      "2020-01-03  72.009125  72.771752  71.783969  71.941336  146322800\n",
      "2020-01-06  72.582909  72.621646  70.876075  71.127866  118387200\n",
      "2020-01-07  72.241547  72.849224  72.021231  72.592594  108872000\n",
      "2020-01-08  73.403633  73.706264  71.943744  71.943744  132079200\n"
     ]
    },
    {
     "name": "stderr",
     "output_type": "stream",
     "text": [
      "\n"
     ]
    }
   ],
   "source": [
    "stock = 'AAPL'\n",
    "data = yf.download(stock, start='2020-01-01', end='2025-01-01')\n",
    "print(data.head())"
   ]
  },
  {
   "cell_type": "code",
   "execution_count": 42,
   "metadata": {},
   "outputs": [
    {
     "name": "stdout",
     "output_type": "stream",
     "text": [
      "Simplified Columns: Index(['Close_AAPL', 'High_AAPL', 'Low_AAPL', 'Open_AAPL', 'Volume_AAPL'], dtype='object')\n"
     ]
    }
   ],
   "source": [
    "data.columns = ['_'.join(col).strip() if isinstance(col, tuple) else col for col in data.columns]\n",
    "print(\"Simplified Columns:\", data.columns)"
   ]
  },
  {
   "cell_type": "code",
   "execution_count": 43,
   "metadata": {},
   "outputs": [
    {
     "name": "stdout",
     "output_type": "stream",
     "text": [
      "            Close_AAPL   High_AAPL    Low_AAPL   Open_AAPL  Volume_AAPL  \\\n",
      "Date                                                                      \n",
      "2020-01-03   72.009125   72.771752   71.783969   71.941336    146322800   \n",
      "2020-01-06   72.582909   72.621646   70.876075   71.127866    118387200   \n",
      "2020-01-07   72.241547   72.849224   72.021231   72.592594    108872000   \n",
      "2020-01-08   73.403633   73.706264   71.943744   71.943744    132079200   \n",
      "2020-01-09   74.962791   75.156472   74.132375   74.384158    170108400   \n",
      "...                ...         ...         ...         ...          ...   \n",
      "2024-12-24  257.916443  257.926411  255.009620  255.209412     23234700   \n",
      "2024-12-26  258.735504  259.814335  257.347047  257.906429     27237100   \n",
      "2024-12-27  255.309296  258.415896  252.782075  257.546826     42355300   \n",
      "2024-12-30  251.923019  253.221595  250.474615  251.952985     35557500   \n",
      "2024-12-31  250.144974  253.001833  249.156056  252.162760     39480700   \n",
      "\n",
      "            Returns_AAPL  \n",
      "Date                      \n",
      "2020-01-03     -0.009722  \n",
      "2020-01-06      0.007968  \n",
      "2020-01-07     -0.004703  \n",
      "2020-01-08      0.016086  \n",
      "2020-01-09      0.021241  \n",
      "...                  ...  \n",
      "2024-12-24      0.011478  \n",
      "2024-12-26      0.003176  \n",
      "2024-12-27     -0.013242  \n",
      "2024-12-30     -0.013263  \n",
      "2024-12-31     -0.007058  \n",
      "\n",
      "[1257 rows x 6 columns]\n"
     ]
    }
   ],
   "source": [
    "data['Returns_AAPL'] = data['Close_AAPL'].pct_change()\n",
    "data.dropna(inplace=True)\n",
    "print(data)"
   ]
  },
  {
   "cell_type": "code",
   "execution_count": 44,
   "metadata": {},
   "outputs": [
    {
     "name": "stdout",
     "output_type": "stream",
     "text": [
      "             Open_AAPL   High_AAPL    Low_AAPL  Volume_AAPL\n",
      "Date                                                       \n",
      "2020-01-03   71.941336   72.771752   71.783969    146322800\n",
      "2020-01-06   71.127866   72.621646   70.876075    118387200\n",
      "2020-01-07   72.592594   72.849224   72.021231    108872000\n",
      "2020-01-08   71.943744   73.706264   71.943744    132079200\n",
      "2020-01-09   74.384158   75.156472   74.132375    170108400\n",
      "...                ...         ...         ...          ...\n",
      "2024-12-24  255.209412  257.926411  255.009620     23234700\n",
      "2024-12-26  257.906429  259.814335  257.347047     27237100\n",
      "2024-12-27  257.546826  258.415896  252.782075     42355300\n",
      "2024-12-30  251.952985  253.221595  250.474615     35557500\n",
      "2024-12-31  252.162760  253.001833  249.156056     39480700\n",
      "\n",
      "[1257 rows x 4 columns]\n",
      "Date\n",
      "2020-01-03     72.009125\n",
      "2020-01-06     72.582909\n",
      "2020-01-07     72.241547\n",
      "2020-01-08     73.403633\n",
      "2020-01-09     74.962791\n",
      "                 ...    \n",
      "2024-12-24    257.916443\n",
      "2024-12-26    258.735504\n",
      "2024-12-27    255.309296\n",
      "2024-12-30    251.923019\n",
      "2024-12-31    250.144974\n",
      "Name: Close_AAPL, Length: 1257, dtype: float64\n"
     ]
    }
   ],
   "source": [
    "X= data[['Open_AAPL', 'High_AAPL', 'Low_AAPL', 'Volume_AAPL']]\n",
    "y = data['Close_AAPL']\n",
    "print(X)\n",
    "print(y)"
   ]
  },
  {
   "cell_type": "code",
   "execution_count": 45,
   "metadata": {},
   "outputs": [],
   "source": [
    "X = np.array(X)\n",
    "indices = np.random.permutation(len(X))"
   ]
  },
  {
   "cell_type": "code",
   "execution_count": 46,
   "metadata": {},
   "outputs": [],
   "source": [
    "train_ratio = 0.8\n",
    "split_index = int(len(X)*train_ratio)"
   ]
  },
  {
   "cell_type": "code",
   "execution_count": 47,
   "metadata": {},
   "outputs": [
    {
     "name": "stdout",
     "output_type": "stream",
     "text": [
      "x:train: [[1.27406065e+02 1.27865839e+02 1.25997396e+02 8.76688000e+07]\n",
      " [1.63352629e+02 1.63946645e+02 1.62253711e+02 4.19496000e+07]\n",
      " [1.86910066e+02 1.88597694e+02 1.86244943e+02 4.52800000e+07]\n",
      " ...\n",
      " [1.86728906e+02 1.88369053e+02 1.86659316e+02 5.37905000e+07]\n",
      " [1.48591484e+02 1.48838988e+02 1.45769948e+02 4.83942000e+07]\n",
      " [2.18529026e+02 2.21402706e+02 2.18529026e+02 4.41553000e+07]]\n",
      "x_test: [[1.64742120e+02 1.66473933e+02 1.63995644e+02 4.81164000e+07]\n",
      " [1.52012560e+02 1.52556241e+02 1.48691177e+02 5.60071000e+07]\n",
      " [1.65757322e+02 1.68504360e+02 1.65428886e+02 4.82518000e+07]\n",
      " ...\n",
      " [1.67112192e+02 1.67820698e+02 1.63540069e+02 8.27727000e+07]\n",
      " [1.37303210e+02 1.38517056e+02 1.36345945e+02 7.04337000e+07]\n",
      " [1.66216705e+02 1.68794924e+02 1.63264541e+02 8.72278000e+07]]\n",
      "y_train: [127.04410553 163.67933655 188.31973267 ... 186.88793945 147.90837097\n",
      " 220.78407288]\n",
      "y-test: [165.06060791 149.13600159 168.22567749 112.66291046 167.01780701\n",
      " 130.29190063 138.32489014 142.76948547 171.47035217 172.94248962\n",
      " 130.10600281 181.08279419  66.33874512 131.24079895  81.73654938\n",
      " 190.26054382 134.7376709  123.3598938  138.48257446 184.0350647\n",
      " 146.55380249 155.13624573 171.82580566 146.18496704 169.26786804\n",
      " 194.14300537 140.23782349 122.90913391 178.53857422 178.03297424\n",
      " 144.97702026  67.60552216 162.45726013 123.66048431 123.1605072\n",
      " 151.34375    124.19281006 138.57621765  77.16594696 152.22035217\n",
      " 130.84864807 189.04725647  83.70513153 150.08641052 109.02577972\n",
      " 178.81565857 188.89857483 133.21113586 124.86194611  75.13228607\n",
      " 130.83872986 120.32359314 123.7322464  138.86392212 226.87068176\n",
      " 224.22650146 163.90704346 176.27801514  77.82449341  73.46863556\n",
      " 180.70671082  77.4076004  160.35174561 133.90692139 145.57426453\n",
      " 232.48832703 225.97265625 176.26809692  58.46380997 174.51628113\n",
      " 188.83624268 106.65142059 227.28974915 165.95101929  76.91416168\n",
      " 173.24845886 173.63734436  94.41433716 226.01257324 186.25401306\n",
      "  66.31204224 131.78860474 144.45323181 162.74298096 242.57328796\n",
      " 217.62857056 103.42750549 169.92655945 167.68295288 106.14926147\n",
      " 147.99261475 120.87666321 118.39648438 221.52244568  77.19499207\n",
      " 170.0348053  156.07601929  77.41461945 124.34958649 164.98661804\n",
      " 128.65414429  90.37010193 134.93115234 118.95239258 153.69508362\n",
      " 139.83598328 145.49586487  68.62963104 226.28198242 146.57577515\n",
      " 125.8094101  138.25054932 165.77818298 138.28489685 223.98373413\n",
      "  75.77725983  78.03343201 156.25422668 153.09753418 122.72348022\n",
      " 147.39204407 168.85269165 174.56059265 124.30059814 193.38006592\n",
      " 139.26629639 190.41676331 224.87275696 117.36932373  93.62593842\n",
      "  88.77868652  71.14378357  70.14151764 181.45320129  78.73480225\n",
      " 217.05229187 112.44837952 136.38539124 140.22955322 179.01445007\n",
      " 115.9341507  190.40008545  79.40457916 171.77423096 135.14170837\n",
      " 176.28814697 144.18292236 145.87089539 191.0894928  168.02662659\n",
      " 223.20980835 145.99565125 127.0345459   74.79816437 136.9156189\n",
      " 206.53585815 169.3755188  175.59477234 143.7980957  110.86628723\n",
      "  69.82601929 176.8835907  168.78302002 152.43188477 172.17808533\n",
      "  93.75979614 233.15684509 181.54278564 213.38285828 142.4777832\n",
      "  67.20510101 188.23982239 148.98774719 157.68997192 149.08656311\n",
      "  59.43937302 178.05499268 131.90596008 161.93641663 117.47690582\n",
      " 212.35630798 230.79205322 148.45480347  62.95821762 150.17393494\n",
      " 228.74848938 189.35359192 142.92852783 187.19610596 135.84091187\n",
      " 143.52043152 139.48817444 230.06367493 142.71298218 163.37245178\n",
      " 163.56054688  76.19822693  90.68888092 172.61946106 131.39730835\n",
      " 151.82002258 175.09666443 183.69709778 172.21682739 184.53208923\n",
      " 148.3155365  159.16488647 184.48236084  61.36381912  92.28272247\n",
      " 172.73400879 131.46574402 221.23309326 121.89710236 150.8210144\n",
      " 242.38349915 155.15563965 227.96936035 226.71073914 123.37193298\n",
      "  72.00912476 166.72857666 168.5043335  110.66396332 170.587677\n",
      " 159.19456482 155.06852722 186.43991089 132.07124329 227.76957703\n",
      " 166.11561584 150.73231506 123.12136078 120.22222137 224.03692627\n",
      "  88.03408051 137.1471405  147.01734924 222.42047119 187.96247864\n",
      "  94.67958069 163.01603699 169.04205322  77.68012238 163.10708618\n",
      " 185.07881165 186.27044678 151.67044067 190.16822815 164.63237\n",
      " 136.52357483 163.7664032 ]\n"
     ]
    }
   ],
   "source": [
    "x_train = X[indices[:split_index]]\n",
    "x_test = X[indices[split_index:]]\n",
    "y_train = np.array(y)[indices[:split_index]]\n",
    "y_test = np.array(y)[indices[split_index:]]\n",
    "\n",
    "print(\"x:train:\", x_train)\n",
    "print(\"x_test:\", x_test)\n",
    "print(\"y_train:\", y_train)\n",
    "print(\"y-test:\", y_test)"
   ]
  },
  {
   "cell_type": "markdown",
   "metadata": {},
   "source": [
    "PCA (Principal Component Analysis)\n",
    "1: Standardize.\n",
    "2: Covariance Matrix.\n",
    "3. Eigen Decomp.\n",
    "4. Sort Eigenvalues.\n",
    "5. transform."
   ]
  },
  {
   "cell_type": "code",
   "execution_count": 59,
   "metadata": {},
   "outputs": [
    {
     "name": "stdout",
     "output_type": "stream",
     "text": [
      "[[ 0.36012232  0.36094038  0.37958968 -0.77123938]\n",
      " [ 0.06512977  0.04036047  0.02388002 -0.62889558]\n",
      " [ 0.38364843  0.40770922  0.41290138 -0.76879684]\n",
      " ...\n",
      " [ 0.41504596  0.39196175  0.36900109 -0.14605919]\n",
      " [-0.27574206 -0.28301793 -0.26305044 -0.36864782]\n",
      " [ 0.3942941   0.41440206  0.36259721 -0.06569169]]\n"
     ]
    }
   ],
   "source": [
    "mean = np.mean(x_test, axis=0)\n",
    "std = np.std(x_test, axis=0)\n",
    "x_test_standard = (x_test - mean) / std\n",
    "x_train_standard = (x_train - mean) / std\n",
    "print(x_test_standard)"
   ]
  },
  {
   "cell_type": "markdown",
   "metadata": {},
   "source": [
    "What this is doing is we're using z-score formula which is \n",
    "z = (x-(mean))/std. "
   ]
  },
  {
   "cell_type": "code",
   "execution_count": 60,
   "metadata": {},
   "outputs": [
    {
     "name": "stdout",
     "output_type": "stream",
     "text": [
      "[[ 1.00398406  1.00344253  1.00348082 -0.65582341]\n",
      " [ 1.00344253  1.00398406  1.00334835 -0.64662013]\n",
      " [ 1.00348082  1.00334835  1.00398406 -0.66271199]\n",
      " [-0.65582341 -0.64662013 -0.66271199  1.00398406]]\n"
     ]
    }
   ],
   "source": [
    "cov_matrix = np.cov(x_test_standard, rowvar=False)\n",
    "print(cov_matrix)"
   ]
  },
  {
   "cell_type": "markdown",
   "metadata": {},
   "source": [
    "We now make a covariance matrix which tells us the magnitude/direction of these standardized values.\n",
    "\n",
    "Facts about covariance matrixes:\n",
    "they're nxn symmetric\n",
    "the diagonal entries are all equal\n",
    "upper and lower triangular portions are also equal\n",
    "mainly looking at the sign of the numbers\n",
    "\n",
    "Negative: One increases / other decreasing (inversely correlated)\n",
    "Positive: Both increase / decreases (correlated)"
   ]
  },
  {
   "cell_type": "code",
   "execution_count": 61,
   "metadata": {},
   "outputs": [],
   "source": [
    "eigenvalues, eigenvectors = np.linalg.eig(cov_matrix)"
   ]
  },
  {
   "cell_type": "markdown",
   "metadata": {},
   "source": [
    "Now we're using lin-alg to find the eigenvalues/ eigenvectors which they're \"n\" sets for the amount of dim the matrix has. \n",
    "\n",
    "We're basically finding out how much varience on the data by calculating the eigen stuff."
   ]
  },
  {
   "cell_type": "code",
   "execution_count": 62,
   "metadata": {},
   "outputs": [
    {
     "name": "stdout",
     "output_type": "stream",
     "text": [
      "[3.52205556e+00 4.92986416e-01 4.83332935e-04 4.10950211e-04]\n"
     ]
    }
   ],
   "source": [
    "sorted_indices = np.argsort(eigenvalues)[::-1]\n",
    "sorted_eigenvalues = eigenvalues[sorted_indices]\n",
    "sorted_eigenvectors = eigenvectors[:, sorted_indices]\n",
    "print(sorted_eigenvalues)"
   ]
  },
  {
   "cell_type": "markdown",
   "metadata": {},
   "source": [
    "We then sorted it in increasing order."
   ]
  },
  {
   "cell_type": "code",
   "execution_count": 63,
   "metadata": {},
   "outputs": [],
   "source": [
    "m = 2\n",
    "top_eigenvectors = sorted_eigenvectors[:, :m]\n",
    "x_test_reduced = np.dot(x_test_standard, top_eigenvectors)\n",
    "x_train_reduced = np.dot(x_train_standard, top_eigenvectors)"
   ]
  },
  {
   "cell_type": "markdown",
   "metadata": {},
   "source": [
    "We then reduced to a 1 dimensional array and then we took the dotproduct of the two vectors which results us with new data on a new plane."
   ]
  },
  {
   "cell_type": "code",
   "execution_count": 69,
   "metadata": {},
   "outputs": [
    {
     "name": "stdout",
     "output_type": "stream",
     "text": [
      "Bias: 149.35281310605563\n",
      "Coeff: [ 22.76893593 -10.17086842]\n"
     ]
    }
   ],
   "source": [
    "X = np.hstack([np.ones((x_train_reduced.shape[0], 1)),x_train_reduced])\n",
    "w = np.linalg.inv(X.T @ X) @ X.T @ y_train\n",
    "\n",
    "bias = w[0]\n",
    "coeff = w[1:]\n",
    "print(\"Bias:\", bias)\n",
    "print(\"Coeff:\", coeff)"
   ]
  },
  {
   "cell_type": "code",
   "execution_count": 74,
   "metadata": {},
   "outputs": [
    {
     "name": "stdout",
     "output_type": "stream",
     "text": [
      "Mean Squared Error: 2.058386458017351\n"
     ]
    }
   ],
   "source": [
    "y_pred = np.dot(x_test_reduced, w[1:]) + w[0]\n",
    "mse = np.mean((y_pred - y_test) ** 2)\n",
    "print(\"Mean Squared Error:\", mse)"
   ]
  },
  {
   "cell_type": "code",
   "execution_count": 75,
   "metadata": {},
   "outputs": [
    {
     "name": "stdout",
     "output_type": "stream",
     "text": [
      "R^2 Score: 0.9988960378108052\n"
     ]
    }
   ],
   "source": [
    "y_mean = np.mean(y_test)\n",
    "\n",
    "ss_res = np.sum((y_test - y_pred) ** 2)\n",
    "ss_tot = np.sum((y_test - y_mean) ** 2)\n",
    "\n",
    "r_squared = 1 - (ss_res / ss_tot)\n",
    "\n",
    "print(\"R^2 Score:\", r_squared)\n"
   ]
  },
  {
   "cell_type": "code",
   "execution_count": 76,
   "metadata": {},
   "outputs": [
    {
     "data": {
      "image/png": "[encoded data removed]",
      "text/plain": [
       "<Figure size 1000x600 with 1 Axes>"
      ]
     },
     "metadata": {},
     "output_type": "display_data"
    }
   ],
   "source": [
    "plt.figure(figsize=(10, 6))\n",
    "plt.scatter(y_test, y_pred, alpha=0.7, color='blue')\n",
    "plt.plot([y_test.min(), y_test.max()], [y_test.min(), y_test.max()], color='red',linestyle='--')\n",
    "\n",
    "plt.xlabel('Actual Closing Price')\n",
    "plt.ylabel('Predicted Closing Price')\n",
    "plt.title('Actual vs Predicted Closing Price ')\n",
    "plt.show()"
   ]
  }
 ],
 "metadata": {
  "kernelspec": {
   "display_name": "base",
   "language": "python",
   "name": "python3"
  },
  "language_info": {
   "codemirror_mode": {
    "name": "ipython",
    "version": 3
   },
   "file_extension": ".py",
   "mimetype": "text/x-python",
   "name": "python",
   "nbconvert_exporter": "python",
   "pygments_lexer": "ipython3",
   "version": "3.12.4"
  }
 },
 "nbformat": 4,
 "nbformat_minor": 2
}
