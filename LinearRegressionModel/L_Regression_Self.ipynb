{
 "cells": [
  {
   "cell_type": "markdown",
   "metadata": {},
   "source": [
    "Linear Regression Model From Scratch\n",
    "(No Sklearn)"
   ]
  },
  {
   "cell_type": "code",
   "execution_count": 273,
   "metadata": {},
   "outputs": [],
   "source": [
    "import numpy as np\n",
    "import matplotlib.pyplot as plt\n",
    "import yfinance as yf\n",
    "import pandas as pd\n",
    "import random \n",
    "import pickle"
   ]
  },
  {
   "cell_type": "markdown",
   "metadata": {},
   "source": [
    "Main Ideas we need to cover:\n",
    "1) Use least-squares to fit a line to the data\n",
    "2) Calculate R^2\n",
    "3) Calculate a p-value for R^2"
   ]
  },
  {
   "cell_type": "code",
   "execution_count": 274,
   "metadata": {},
   "outputs": [
    {
     "name": "stderr",
     "output_type": "stream",
     "text": [
      "[*********************100%***********************]  1 of 1 completed"
     ]
    },
    {
     "name": "stdout",
     "output_type": "stream",
     "text": [
      "Price           Close       High        Low       Open     Volume\n",
      "Ticker           AAPL       AAPL       AAPL       AAPL       AAPL\n",
      "Date                                                             \n",
      "2020-01-02  72.716080  72.776606  71.466820  71.721026  135480400\n",
      "2020-01-03  72.009125  72.771752  71.783969  71.941336  146322800\n",
      "2020-01-06  72.582909  72.621646  70.876075  71.127866  118387200\n",
      "2020-01-07  72.241539  72.849216  72.021223  72.592586  108872000\n",
      "2020-01-08  73.403648  73.706279  71.943759  71.943759  132079200\n"
     ]
    },
    {
     "name": "stderr",
     "output_type": "stream",
     "text": [
      "\n"
     ]
    }
   ],
   "source": [
    "stock = 'AAPL'\n",
    "data = yf.download(stock, start='2020-01-01', end='2025-01-01')\n",
    "print(data.head())"
   ]
  },
  {
   "cell_type": "code",
   "execution_count": 275,
   "metadata": {},
   "outputs": [
    {
     "name": "stdout",
     "output_type": "stream",
     "text": [
      "Simplified Columns: Index(['Close_AAPL', 'High_AAPL', 'Low_AAPL', 'Open_AAPL', 'Volume_AAPL'], dtype='object')\n"
     ]
    }
   ],
   "source": [
    "data.columns = ['_'.join(col).strip() if isinstance(col, tuple) else col for col in data.columns]\n",
    "print(\"Simplified Columns:\", data.columns)"
   ]
  },
  {
   "cell_type": "code",
   "execution_count": 276,
   "metadata": {},
   "outputs": [
    {
     "name": "stdout",
     "output_type": "stream",
     "text": [
      "            Close_AAPL   High_AAPL    Low_AAPL   Open_AAPL  Volume_AAPL  \\\n",
      "Date                                                                      \n",
      "2020-01-03   72.009125   72.771752   71.783969   71.941336    146322800   \n",
      "2020-01-06   72.582909   72.621646   70.876075   71.127866    118387200   \n",
      "2020-01-07   72.241539   72.849216   72.021223   72.592586    108872000   \n",
      "2020-01-08   73.403648   73.706279   71.943759   71.943759    132079200   \n",
      "2020-01-09   74.962807   75.156487   74.132390   74.384173    170108400   \n",
      "...                ...         ...         ...         ...          ...   \n",
      "2024-12-24  257.916443  257.926411  255.009620  255.209412     23234700   \n",
      "2024-12-26  258.735504  259.814335  257.347047  257.906429     27237100   \n",
      "2024-12-27  255.309296  258.415896  252.782075  257.546826     42355300   \n",
      "2024-12-30  251.923019  253.221595  250.474615  251.952985     35557500   \n",
      "2024-12-31  250.144974  253.001833  249.156056  252.162760     39480700   \n",
      "\n",
      "            Returns_AAPL  \n",
      "Date                      \n",
      "2020-01-03     -0.009722  \n",
      "2020-01-06      0.007968  \n",
      "2020-01-07     -0.004703  \n",
      "2020-01-08      0.016086  \n",
      "2020-01-09      0.021241  \n",
      "...                  ...  \n",
      "2024-12-24      0.011478  \n",
      "2024-12-26      0.003176  \n",
      "2024-12-27     -0.013242  \n",
      "2024-12-30     -0.013263  \n",
      "2024-12-31     -0.007058  \n",
      "\n",
      "[1257 rows x 6 columns]\n"
     ]
    }
   ],
   "source": [
    "data['Returns_AAPL'] = data['Close_AAPL'].pct_change()\n",
    "data.dropna(inplace=True)\n",
    "print(data)"
   ]
  },
  {
   "cell_type": "code",
   "execution_count": 277,
   "metadata": {},
   "outputs": [
    {
     "name": "stdout",
     "output_type": "stream",
     "text": [
      "             Open_AAPL   High_AAPL    Low_AAPL  Volume_AAPL\n",
      "Date                                                       \n",
      "2020-01-03   71.941336   72.771752   71.783969    146322800\n",
      "2020-01-06   71.127866   72.621646   70.876075    118387200\n",
      "2020-01-07   72.592586   72.849216   72.021223    108872000\n",
      "2020-01-08   71.943759   73.706279   71.943759    132079200\n",
      "2020-01-09   74.384173   75.156487   74.132390    170108400\n",
      "...                ...         ...         ...          ...\n",
      "2024-12-24  255.209412  257.926411  255.009620     23234700\n",
      "2024-12-26  257.906429  259.814335  257.347047     27237100\n",
      "2024-12-27  257.546826  258.415896  252.782075     42355300\n",
      "2024-12-30  251.952985  253.221595  250.474615     35557500\n",
      "2024-12-31  252.162760  253.001833  249.156056     39480700\n",
      "\n",
      "[1257 rows x 4 columns]\n",
      "Date\n",
      "2020-01-03     72.009125\n",
      "2020-01-06     72.582909\n",
      "2020-01-07     72.241539\n",
      "2020-01-08     73.403648\n",
      "2020-01-09     74.962807\n",
      "                 ...    \n",
      "2024-12-24    257.916443\n",
      "2024-12-26    258.735504\n",
      "2024-12-27    255.309296\n",
      "2024-12-30    251.923019\n",
      "2024-12-31    250.144974\n",
      "Name: Close_AAPL, Length: 1257, dtype: float64\n"
     ]
    }
   ],
   "source": [
    "X= data[['Open_AAPL', 'High_AAPL', 'Low_AAPL', 'Volume_AAPL']]\n",
    "y = data['Close_AAPL']\n",
    "print(X)\n",
    "print(y)"
   ]
  },
  {
   "cell_type": "code",
   "execution_count": 278,
   "metadata": {},
   "outputs": [],
   "source": [
    "X = np.array(X)\n",
    "indices = np.random.permutation(len(X))"
   ]
  },
  {
   "cell_type": "code",
   "execution_count": 279,
   "metadata": {},
   "outputs": [],
   "source": [
    "train_ratio = 0.8\n",
    "split_index = int(len(X)*train_ratio)"
   ]
  },
  {
   "cell_type": "code",
   "execution_count": 280,
   "metadata": {},
   "outputs": [
    {
     "name": "stdout",
     "output_type": "stream",
     "text": [
      "x:train: [[1.08294453e+02 1.09201295e+02 1.05037627e+02 1.90272600e+08]\n",
      " [1.51977339e+02 1.54769191e+02 1.51818948e+02 6.81679000e+07]\n",
      " [1.79311858e+02 1.79371339e+02 1.75485110e+02 6.03785000e+07]\n",
      " ...\n",
      " [1.72127235e+02 1.73560470e+02 1.71241418e+02 6.01395000e+07]\n",
      " [2.16233261e+02 2.18565419e+02 2.15027307e+02 3.63118000e+07]\n",
      " [1.87763406e+02 1.89097120e+02 1.87116467e+02 4.51552000e+07]]\n",
      "x_test: [[1.82375250e+02 1.84913194e+02 1.82196792e+02 6.54332000e+07]\n",
      " [7.73199939e+01 7.84393407e+01 7.71885904e+01 8.07912000e+07]\n",
      " [1.31081555e+02 1.31620504e+02 1.30552399e+02 6.02142000e+07]\n",
      " ...\n",
      " [1.67007641e+02 1.70486770e+02 1.66771778e+02 1.95432700e+08]\n",
      " [1.61237389e+02 1.61463717e+02 1.52479292e+02 1.30525300e+08]\n",
      " [1.85121355e+02 1.85379125e+02 1.82682556e+02 1.01235600e+08]]\n",
      "y_train: [106.14923859 152.175354   176.654953   ... 171.93812561 217.50897217\n",
      " 187.96247864]\n",
      "y-test: [184.40757751  78.31767273 131.01295471 164.51097107 171.86334229\n",
      " 190.26054382 140.16914368 128.53553772 189.04728699 193.01116943\n",
      " 132.96400452 217.80795288 188.57778931 223.55862427 140.3611908\n",
      " 147.87252808 152.2696991  225.71322632 169.52749634 145.37617493\n",
      " 130.83874512 223.20980835 180.30860901 152.50094604 222.17103577\n",
      " 171.29444885 116.61790466 119.40403748 128.90577698 130.83508301\n",
      " 119.87056732  67.20510101  76.64109039 127.91925049 132.18968201\n",
      " 149.5511322  175.36470032 193.69900513 194.75762939 172.39645386\n",
      " 116.06601715 191.89787292 139.60154724 254.21051025 141.01045227\n",
      " 146.44314575  60.24020767 215.84495544 145.3605957  189.34362793\n",
      " 224.03691101 112.09735107 110.01064301 226.807724   110.19589996\n",
      " 242.38349915 160.15370178 177.7671051  137.323349   185.65602112\n",
      " 160.35173035 171.47035217 141.97105408  77.68014526 170.56460571\n",
      "  73.7113266  143.74511719 172.21681213 143.33898926 184.74082947\n",
      " 135.84094238 123.36969757 109.48410034 130.21362305 194.14302063\n",
      " 161.6999054  106.06149292 176.21653748 143.21270752 177.09204102\n",
      "  74.9628067  242.77307129 141.11250305 219.62661743 172.94245911\n",
      " 193.51812744 130.72877502 145.83164978 190.41677856 163.1789093\n",
      " 235.9606781  120.08544922 147.39204407 189.65258789 117.96603394\n",
      " 134.37759399 167.01782227 190.80201721 152.22035217 144.18165588\n",
      " 142.6618042   69.91098022 229.59469604  85.55447388 170.587677\n",
      " 148.79031372 163.40585327 117.29107666 149.40190125 175.01727295\n",
      " 223.42906189 254.98965454 229.76776123 227.91398621 188.17025757\n",
      " 157.78895569 112.4484024  228.36738586 170.91593933 146.32234192\n",
      " 114.39860535 124.1879425  145.81468201 143.42976379 170.01507568\n",
      " 122.18400574 186.45976257 143.85919189 133.05047607 237.0693512\n",
      " 113.61917114  92.80101776 152.45159912 188.08151245 225.58183289\n",
      " 179.90054321 146.18493652  83.46179199  77.73009491  75.70121002\n",
      "  81.14280701 149.76731873 144.37583923 169.09014893 125.31263733\n",
      "  61.71084213 138.28491211 175.77262878 114.05731201 143.7585144\n",
      " 191.70570374 160.73899841 125.82674408 217.6285553  165.67572021\n",
      " 194.54199219 186.28466797 175.94050598 161.28410339 134.20742798\n",
      " 111.75362396 127.59311676  85.67372131 170.70883179 136.28541565\n",
      " 132.44396973  78.68023682 234.67198181 158.50157166 116.71556091\n",
      " 186.25401306 153.91218567 105.52518463 159.15507507 131.39730835\n",
      " 144.18293762 223.98373413 209.1171875  234.80183411 171.20233154\n",
      " 183.28456116 172.68461609 146.30888367 114.58384705 129.14129639\n",
      " 169.32048035 159.16821289 124.86190796 157.34321594  64.5696106\n",
      " 143.44789124 108.34566498 189.35359192 131.02540588 126.40522766\n",
      " 225.17440796 143.96702576 117.37909698 133.31988525 163.72125244\n",
      "  77.82448578 148.45478821 177.3092804  250.14497375 191.17221069\n",
      " 155.06854248 135.44723511 193.66725159 148.14767456 136.38537598\n",
      " 129.65248108 112.18511963 211.77824402  93.20011902 225.97265625\n",
      " 172.17805481 139.48817444 206.45611572 142.63162231 190.16822815\n",
      "  69.02519226 123.7322464  144.25276184 127.83805847 123.25833893\n",
      " 110.20565796 190.30740356 149.52212524 213.57218933 220.80789185\n",
      " 169.22875977 192.26564026  71.2990799  158.65005493 181.88119507\n",
      " 136.5479126  193.38006592 127.85767365 125.98519897 181.6622467\n",
      " 146.4793396  164.98614502 111.20652771 124.30060577 160.59773254\n",
      " 125.06807709 159.61697388 227.05029297 155.13624573 168.19683838\n",
      " 154.27027893 183.32695007]\n"
     ]
    }
   ],
   "source": [
    "x_train = X[indices[:split_index]]\n",
    "x_test = X[indices[split_index:]]\n",
    "y_train = np.array(y)[indices[:split_index]]\n",
    "y_test = np.array(y)[indices[split_index:]]\n",
    "\n",
    "print(\"x:train:\", x_train)\n",
    "print(\"x_test:\", x_test)\n",
    "print(\"y_train:\", y_train)\n",
    "print(\"y-test:\", y_test)"
   ]
  },
  {
   "cell_type": "markdown",
   "metadata": {},
   "source": [
    "Preprocessing:"
   ]
  },
  {
   "cell_type": "markdown",
   "metadata": {},
   "source": [
    "PCA (Principal Component Analysis)\n",
    "1: Standardize.\n",
    "2: Covariance Matrix.\n",
    "3. Eigen Decomp.\n",
    "4. Sort Eigenvalues.\n",
    "5. transform."
   ]
  },
  {
   "cell_type": "code",
   "execution_count": 281,
   "metadata": {},
   "outputs": [
    {
     "name": "stdout",
     "output_type": "stream",
     "text": [
      "[[ 0.64615595  0.66381148  0.68576914 -0.48373711]\n",
      " [-1.84967281 -1.85566925 -1.82834252 -0.14705311]\n",
      " [-0.57244351 -0.5972484  -0.55070352 -0.59815005]\n",
      " ...\n",
      " [ 0.28106312  0.32244038  0.31646266  2.36616215]\n",
      " [ 0.14397754  0.10892873 -0.02572875  0.94323705]\n",
      " [ 0.71139598  0.67483676  0.69739931  0.30113693]]\n"
     ]
    }
   ],
   "source": [
    "mean = np.mean(x_test, axis=0)\n",
    "std = np.std(x_test, axis=0)\n",
    "x_test_standard = (x_test - mean) / std\n",
    "x_train_standard = (x_train - mean) / std\n",
    "print(x_test_standard)"
   ]
  },
  {
   "cell_type": "markdown",
   "metadata": {},
   "source": [
    "What this is doing is we're using z-score formula which is \n",
    "z = (x-(mean))/std. "
   ]
  },
  {
   "cell_type": "code",
   "execution_count": 282,
   "metadata": {},
   "outputs": [
    {
     "name": "stdout",
     "output_type": "stream",
     "text": [
      "[[ 1.00398406  1.00328412  1.00330879 -0.62700397]\n",
      " [ 1.00328412  1.00398406  1.0031273  -0.61610189]\n",
      " [ 1.00330879  1.0031273   1.00398406 -0.63523266]\n",
      " [-0.62700397 -0.61610189 -0.63523266  1.00398406]]\n"
     ]
    }
   ],
   "source": [
    "cov_matrix = np.cov(x_test_standard, rowvar=False)\n",
    "print(cov_matrix)"
   ]
  },
  {
   "cell_type": "markdown",
   "metadata": {},
   "source": [
    "We now make a covariance matrix which tells us the magnitude/direction of these standardized values.\n",
    "\n",
    "Facts about covariance matrixes:\n",
    "they're nxn symmetric\n",
    "the diagonal entries are all equal\n",
    "upper and lower triangular portions are also equal\n",
    "mainly looking at the sign of the numbers\n",
    "\n",
    "Negative: One increases / other decreasing (inversely correlated)\n",
    "Positive: Both increase / decreases (correlated)"
   ]
  },
  {
   "cell_type": "code",
   "execution_count": 283,
   "metadata": {},
   "outputs": [],
   "source": [
    "eigenvalues, eigenvectors = np.linalg.eig(cov_matrix)"
   ]
  },
  {
   "cell_type": "markdown",
   "metadata": {},
   "source": [
    "Now we're using lin-alg to find the eigenvalues/ eigenvectors which they're \"n\" sets for the amount of dim the matrix has. \n",
    "\n",
    "We're basically finding out how much varience on the data by calculating the eigen stuff."
   ]
  },
  {
   "cell_type": "code",
   "execution_count": 284,
   "metadata": {},
   "outputs": [
    {
     "name": "stdout",
     "output_type": "stream",
     "text": [
      "[3.48457572e+00 5.30172899e-01 6.30551020e-04 5.57085463e-04]\n"
     ]
    }
   ],
   "source": [
    "sorted_indices = np.argsort(eigenvalues)[::-1]\n",
    "sorted_eigenvalues = eigenvalues[sorted_indices]\n",
    "sorted_eigenvectors = eigenvectors[:, sorted_indices]\n",
    "print(sorted_eigenvalues)"
   ]
  },
  {
   "cell_type": "markdown",
   "metadata": {},
   "source": [
    "We then sorted it in increasing order."
   ]
  },
  {
   "cell_type": "code",
   "execution_count": 285,
   "metadata": {},
   "outputs": [],
   "source": [
    "m = 2\n",
    "top_eigenvectors = sorted_eigenvectors[:, :m]\n",
    "x_test_reduced = np.dot(x_test_standard, top_eigenvectors)\n",
    "x_train_reduced = np.dot(x_train_standard, top_eigenvectors)"
   ]
  },
  {
   "cell_type": "markdown",
   "metadata": {},
   "source": [
    "We then reduced to a 1 dimensional array and then we took the dotproduct of the two vectors which results us with new data on a new plane."
   ]
  },
  {
   "cell_type": "markdown",
   "metadata": {},
   "source": [
    "Normal Equation (Without Gradient Descent):"
   ]
  },
  {
   "cell_type": "code",
   "execution_count": 286,
   "metadata": {},
   "outputs": [
    {
     "name": "stdout",
     "output_type": "stream",
     "text": [
      "Bias: 155.31822194401406\n",
      "Coeff: [22.25482237 -9.69118722]\n"
     ]
    }
   ],
   "source": [
    "X = np.hstack([np.ones((x_train_reduced.shape[0], 1)),x_train_reduced])\n",
    "w = np.linalg.inv(X.T @ X) @ X.T @ y_train\n",
    "\n",
    "bias = w[0]\n",
    "coeff = w[1:]\n",
    "print(\"Bias:\", bias)\n",
    "print(\"Coeff:\", coeff)"
   ]
  },
  {
   "cell_type": "markdown",
   "metadata": {},
   "source": [
    "We used our preprocessed data (1D and normalized) to stack it hstack (horizontal stacking) then inverting it. This means we're reconstructing the original data from our reduced-dimension array."
   ]
  },
  {
   "cell_type": "code",
   "execution_count": 287,
   "metadata": {},
   "outputs": [
    {
     "name": "stdout",
     "output_type": "stream",
     "text": [
      "Mean Squared Error: 2.546178517337939\n"
     ]
    }
   ],
   "source": [
    "y_pred = np.dot(x_test_reduced, w[1:]) + w[0]\n",
    "mse = np.mean((y_test - y_pred) ** 2)\n",
    "print(\"Mean Squared Error:\", mse)"
   ]
  },
  {
   "cell_type": "markdown",
   "metadata": {},
   "source": [
    "We now found our mean squared error. Is this good compared to our target value (y)?"
   ]
  },
  {
   "cell_type": "code",
   "execution_count": 288,
   "metadata": {},
   "outputs": [
    {
     "name": "stdout",
     "output_type": "stream",
     "text": [
      "Range of y: 204.28560638427734\n",
      "Standard Deviation of y: 41.959527030569014\n"
     ]
    }
   ],
   "source": [
    "range_y = np.max(y_train) - np.min(y_train)\n",
    "std_y = np.std(y_train)\n",
    "\n",
    "print(f\"Range of y: {range_y}\")\n",
    "print(f\"Standard Deviation of y: {std_y}\")"
   ]
  },
  {
   "cell_type": "code",
   "execution_count": 289,
   "metadata": {},
   "outputs": [
    {
     "name": "stdout",
     "output_type": "stream",
     "text": [
      "R^2 Score: 0.9985628033774665\n"
     ]
    }
   ],
   "source": [
    "y_mean = np.mean(y_test)\n",
    "\n",
    "ss_res = np.sum((y_test - y_pred) ** 2)\n",
    "ss_tot = np.sum((y_test - y_mean) ** 2)\n",
    "\n",
    "r_squared = 1 - (ss_res / ss_tot)\n",
    "\n",
    "print(\"R^2 Score:\", r_squared)\n"
   ]
  },
  {
   "cell_type": "code",
   "execution_count": 290,
   "metadata": {},
   "outputs": [
    {
     "data": {
      "image/png": "[encoded data removed]",
      "text/plain": [
       "<Figure size 1000x600 with 1 Axes>"
      ]
     },
     "metadata": {},
     "output_type": "display_data"
    }
   ],
   "source": [
    "plt.figure(figsize=(10, 6))\n",
    "plt.scatter(y_test, y_pred, alpha=0.7, color='blue')\n",
    "plt.plot([y_test.min(), y_test.max()], [y_test.min(), y_test.max()], color='red',linestyle='--')\n",
    "\n",
    "plt.xlabel('Actual Closing Price')\n",
    "plt.ylabel('Predicted Closing Price')\n",
    "plt.title('Actual vs Predicted Closing Price ')\n",
    "plt.show()"
   ]
  },
  {
   "cell_type": "markdown",
   "metadata": {},
   "source": [
    "New Equation (With Gradient Descent & regularization):"
   ]
  },
  {
   "cell_type": "code",
   "execution_count": 291,
   "metadata": {},
   "outputs": [
    {
     "name": "stdout",
     "output_type": "stream",
     "text": [
      "Optimal weights: [22.25474224 -9.69098875]\n",
      "Optimal biases: 155.3182096395253\n"
     ]
    }
   ],
   "source": [
    "w = np.zeros(x_train_reduced.shape[1])\n",
    "b = 0\n",
    "LR = 0.01\n",
    "lambda_l1 = 0.00001\n",
    "lambda_l2 = 0.00001\n",
    "n = len(x_train_reduced)\n",
    "iterations = 1000\n",
    "for _ in range(iterations):\n",
    "    y_pred2 = x_train_reduced @ w + b\n",
    "\n",
    "    dw= (-2/n) * x_train_reduced.T @ (y_train - y_pred2) + lambda_l1 * np.sign(w) + 2 * lambda_l2 * w\n",
    "    db = (-2/n) * np.sum(y_train - y_pred2)\n",
    "\n",
    "    w -= LR * dw\n",
    "    b -= LR * db\n",
    "print(f\"Optimal weights: {w}\")\n",
    "print(f\"Optimal biases: {b}\")"
   ]
  },
  {
   "cell_type": "markdown",
   "metadata": {},
   "source": [
    "Here we set a random weight and biases and we go through \"n\" amount of iterations to give us the most optimal weight and bias. \n",
    "\n",
    "For Regularization, I expirmented by changing lambda1 and lambda2 and I concluded that when I did 0.01, it underfitted my weights results in huge percentage error. 0.0001 made my error a lot less so I'm sticking with this."
   ]
  },
  {
   "cell_type": "code",
   "execution_count": 292,
   "metadata": {},
   "outputs": [
    {
     "name": "stdout",
     "output_type": "stream",
     "text": [
      "Mean Squared Error using Gradient Descent: 2.5461784912972507\n"
     ]
    }
   ],
   "source": [
    "y_test_pred = x_test_reduced @ w + b\n",
    "test_mse = np.mean((y_test - y_test_pred) ** 2)\n",
    "print(f\"Mean Squared Error using Gradient Descent: {test_mse}\")"
   ]
  },
  {
   "cell_type": "markdown",
   "metadata": {},
   "source": [
    "Let's compare the base mse to the optimized mse."
   ]
  },
  {
   "cell_type": "code",
   "execution_count": 293,
   "metadata": {},
   "outputs": [
    {
     "name": "stdout",
     "output_type": "stream",
     "text": [
      "Baseline RMSE: 1.5956749410008102\n",
      "Optimized RMSE: 1.5956749328410378\n"
     ]
    }
   ],
   "source": [
    "base_rmse = np.sqrt(mse)\n",
    "optimized_rmse = np.sqrt(test_mse)\n",
    "\n",
    "print(f\"Baseline RMSE: {base_rmse}\")\n",
    "print(f\"Optimized RMSE: {optimized_rmse}\")"
   ]
  },
  {
   "cell_type": "code",
   "execution_count": 294,
   "metadata": {},
   "outputs": [
    {
     "name": "stdout",
     "output_type": "stream",
     "text": [
      "Relative Error of Base, Range: 0.0078110003403725845\n",
      "Relative Error of Optimized, Range: 0.0078110003004296215\n",
      "Relative Error of Base, STDEV: 0.03802890675670162\n",
      "Relative Error of Optimized, STDEV: 0.03802890656223393\n"
     ]
    }
   ],
   "source": [
    "relative_error_base_range = base_rmse / range_y\n",
    "relative_error_opt_range = optimized_rmse / range_y\n",
    "relative_error_base_std = base_rmse / std_y\n",
    "relative_error_opt_std = optimized_rmse / std_y\n",
    "\n",
    "print(f\"Relative Error of Base, Range: {relative_error_base_range}\")\n",
    "print(f\"Relative Error of Optimized, Range: {relative_error_opt_range}\")\n",
    "print(f\"Relative Error of Base, STDEV: {relative_error_base_std}\")\n",
    "print(f\"Relative Error of Optimized, STDEV: {relative_error_opt_std}\")"
   ]
  },
  {
   "cell_type": "code",
   "execution_count": 295,
   "metadata": {},
   "outputs": [
    {
     "name": "stdout",
     "output_type": "stream",
     "text": [
      "Percentage Improvement: 0.00%\n"
     ]
    }
   ],
   "source": [
    "percentage_improv = ((mse - test_mse) / mse) * 100\n",
    "print(f\"Percentage Improvement: {percentage_improv:.2f}%\")"
   ]
  },
  {
   "cell_type": "markdown",
   "metadata": {},
   "source": [
    "Evaluation:"
   ]
  },
  {
   "cell_type": "code",
   "execution_count": 296,
   "metadata": {},
   "outputs": [],
   "source": [
    "from sklearn.linear_model import LinearRegression\n",
    "from sklearn.model_selection import train_test_split\n",
    "from sklearn.metrics import mean_squared_error, r2_score"
   ]
  },
  {
   "cell_type": "code",
   "execution_count": 297,
   "metadata": {},
   "outputs": [],
   "source": [
    "data['Returns_AAPL'] = data['Close_AAPL'].pct_change()\n",
    "data.dropna(inplace=True)\n",
    "X2= data[['Open_AAPL', 'High_AAPL', 'Low_AAPL', 'Volume_AAPL']]\n",
    "y2 = data['Close_AAPL']"
   ]
  },
  {
   "cell_type": "code",
   "execution_count": 298,
   "metadata": {},
   "outputs": [
    {
     "data": {
      "text/html": [
       "<style>#sk-container-id-9 {\n",
       "  /* Definition of color scheme common for light and dark mode */\n",
       "  --sklearn-color-text: #000;\n",
       "  --sklearn-color-text-muted: #666;\n",
       "  --sklearn-color-line: gray;\n",
       "  /* Definition of color scheme for unfitted estimators */\n",
       "  --sklearn-color-unfitted-level-0: #fff5e6;\n",
       "  --sklearn-color-unfitted-level-1: #f6e4d2;\n",
       "  --sklearn-color-unfitted-level-2: #ffe0b3;\n",
       "  --sklearn-color-unfitted-level-3: chocolate;\n",
       "  /* Definition of color scheme for fitted estimators */\n",
       "  --sklearn-color-fitted-level-0: #f0f8ff;\n",
       "  --sklearn-color-fitted-level-1: #d4ebff;\n",
       "  --sklearn-color-fitted-level-2: #b3dbfd;\n",
       "  --sklearn-color-fitted-level-3: cornflowerblue;\n",
       "\n",
       "  /* Specific color for light theme */\n",
       "  --sklearn-color-text-on-default-background: var(--sg-text-color, var(--theme-code-foreground, var(--jp-content-font-color1, black)));\n",
       "  --sklearn-color-background: var(--sg-background-color, var(--theme-background, var(--jp-layout-color0, white)));\n",
       "  --sklearn-color-border-box: var(--sg-text-color, var(--theme-code-foreground, var(--jp-content-font-color1, black)));\n",
       "  --sklearn-color-icon: #696969;\n",
       "\n",
       "  @media (prefers-color-scheme: dark) {\n",
       "    /* Redefinition of color scheme for dark theme */\n",
       "    --sklearn-color-text-on-default-background: var(--sg-text-color, var(--theme-code-foreground, var(--jp-content-font-color1, white)));\n",
       "    --sklearn-color-background: var(--sg-background-color, var(--theme-background, var(--jp-layout-color0, #111)));\n",
       "    --sklearn-color-border-box: var(--sg-text-color, var(--theme-code-foreground, var(--jp-content-font-color1, white)));\n",
       "    --sklearn-color-icon: #878787;\n",
       "  }\n",
       "}\n",
       "\n",
       "#sk-container-id-9 {\n",
       "  color: var(--sklearn-color-text);\n",
       "}\n",
       "\n",
       "#sk-container-id-9 pre {\n",
       "  padding: 0;\n",
       "}\n",
       "\n",
       "#sk-container-id-9 input.sk-hidden--visually {\n",
       "  border: 0;\n",
       "  clip: rect(1px 1px 1px 1px);\n",
       "  clip: rect(1px, 1px, 1px, 1px);\n",
       "  height: 1px;\n",
       "  margin: -1px;\n",
       "  overflow: hidden;\n",
       "  padding: 0;\n",
       "  position: absolute;\n",
       "  width: 1px;\n",
       "}\n",
       "\n",
       "#sk-container-id-9 div.sk-dashed-wrapped {\n",
       "  border: 1px dashed var(--sklearn-color-line);\n",
       "  margin: 0 0.4em 0.5em 0.4em;\n",
       "  box-sizing: border-box;\n",
       "  padding-bottom: 0.4em;\n",
       "  background-color: var(--sklearn-color-background);\n",
       "}\n",
       "\n",
       "#sk-container-id-9 div.sk-container {\n",
       "  /* jupyter's `normalize.less` sets `[hidden] { display: none; }`\n",
       "     but bootstrap.min.css set `[hidden] { display: none !important; }`\n",
       "     so we also need the `!important` here to be able to override the\n",
       "     default hidden behavior on the sphinx rendered scikit-learn.org.\n",
       "     See: https://github.com/scikit-learn/scikit-learn/issues/21755 */\n",
       "  display: inline-block !important;\n",
       "  position: relative;\n",
       "}\n",
       "\n",
       "#sk-container-id-9 div.sk-text-repr-fallback {\n",
       "  display: none;\n",
       "}\n",
       "\n",
       "div.sk-parallel-item,\n",
       "div.sk-serial,\n",
       "div.sk-item {\n",
       "  /* draw centered vertical line to link estimators */\n",
       "  background-image: linear-gradient(var(--sklearn-color-text-on-default-background), var(--sklearn-color-text-on-default-background));\n",
       "  background-size: 2px 100%;\n",
       "  background-repeat: no-repeat;\n",
       "  background-position: center center;\n",
       "}\n",
       "\n",
       "/* Parallel-specific style estimator block */\n",
       "\n",
       "#sk-container-id-9 div.sk-parallel-item::after {\n",
       "  content: \"\";\n",
       "  width: 100%;\n",
       "  border-bottom: 2px solid var(--sklearn-color-text-on-default-background);\n",
       "  flex-grow: 1;\n",
       "}\n",
       "\n",
       "#sk-container-id-9 div.sk-parallel {\n",
       "  display: flex;\n",
       "  align-items: stretch;\n",
       "  justify-content: center;\n",
       "  background-color: var(--sklearn-color-background);\n",
       "  position: relative;\n",
       "}\n",
       "\n",
       "#sk-container-id-9 div.sk-parallel-item {\n",
       "  display: flex;\n",
       "  flex-direction: column;\n",
       "}\n",
       "\n",
       "#sk-container-id-9 div.sk-parallel-item:first-child::after {\n",
       "  align-self: flex-end;\n",
       "  width: 50%;\n",
       "}\n",
       "\n",
       "#sk-container-id-9 div.sk-parallel-item:last-child::after {\n",
       "  align-self: flex-start;\n",
       "  width: 50%;\n",
       "}\n",
       "\n",
       "#sk-container-id-9 div.sk-parallel-item:only-child::after {\n",
       "  width: 0;\n",
       "}\n",
       "\n",
       "/* Serial-specific style estimator block */\n",
       "\n",
       "#sk-container-id-9 div.sk-serial {\n",
       "  display: flex;\n",
       "  flex-direction: column;\n",
       "  align-items: center;\n",
       "  background-color: var(--sklearn-color-background);\n",
       "  padding-right: 1em;\n",
       "  padding-left: 1em;\n",
       "}\n",
       "\n",
       "\n",
       "/* Toggleable style: style used for estimator/Pipeline/ColumnTransformer box that is\n",
       "clickable and can be expanded/collapsed.\n",
       "- Pipeline and ColumnTransformer use this feature and define the default style\n",
       "- Estimators will overwrite some part of the style using the `sk-estimator` class\n",
       "*/\n",
       "\n",
       "/* Pipeline and ColumnTransformer style (default) */\n",
       "\n",
       "#sk-container-id-9 div.sk-toggleable {\n",
       "  /* Default theme specific background. It is overwritten whether we have a\n",
       "  specific estimator or a Pipeline/ColumnTransformer */\n",
       "  background-color: var(--sklearn-color-background);\n",
       "}\n",
       "\n",
       "/* Toggleable label */\n",
       "#sk-container-id-9 label.sk-toggleable__label {\n",
       "  cursor: pointer;\n",
       "  display: flex;\n",
       "  width: 100%;\n",
       "  margin-bottom: 0;\n",
       "  padding: 0.5em;\n",
       "  box-sizing: border-box;\n",
       "  text-align: center;\n",
       "  align-items: start;\n",
       "  justify-content: space-between;\n",
       "  gap: 0.5em;\n",
       "}\n",
       "\n",
       "#sk-container-id-9 label.sk-toggleable__label .caption {\n",
       "  font-size: 0.6rem;\n",
       "  font-weight: lighter;\n",
       "  color: var(--sklearn-color-text-muted);\n",
       "}\n",
       "\n",
       "#sk-container-id-9 label.sk-toggleable__label-arrow:before {\n",
       "  /* Arrow on the left of the label */\n",
       "  content: \"▸\";\n",
       "  float: left;\n",
       "  margin-right: 0.25em;\n",
       "  color: var(--sklearn-color-icon);\n",
       "}\n",
       "\n",
       "#sk-container-id-9 label.sk-toggleable__label-arrow:hover:before {\n",
       "  color: var(--sklearn-color-text);\n",
       "}\n",
       "\n",
       "/* Toggleable content - dropdown */\n",
       "\n",
       "#sk-container-id-9 div.sk-toggleable__content {\n",
       "  max-height: 0;\n",
       "  max-width: 0;\n",
       "  overflow: hidden;\n",
       "  text-align: left;\n",
       "  /* unfitted */\n",
       "  background-color: var(--sklearn-color-unfitted-level-0);\n",
       "}\n",
       "\n",
       "#sk-container-id-9 div.sk-toggleable__content.fitted {\n",
       "  /* fitted */\n",
       "  background-color: var(--sklearn-color-fitted-level-0);\n",
       "}\n",
       "\n",
       "#sk-container-id-9 div.sk-toggleable__content pre {\n",
       "  margin: 0.2em;\n",
       "  border-radius: 0.25em;\n",
       "  color: var(--sklearn-color-text);\n",
       "  /* unfitted */\n",
       "  background-color: var(--sklearn-color-unfitted-level-0);\n",
       "}\n",
       "\n",
       "#sk-container-id-9 div.sk-toggleable__content.fitted pre {\n",
       "  /* unfitted */\n",
       "  background-color: var(--sklearn-color-fitted-level-0);\n",
       "}\n",
       "\n",
       "#sk-container-id-9 input.sk-toggleable__control:checked~div.sk-toggleable__content {\n",
       "  /* Expand drop-down */\n",
       "  max-height: 200px;\n",
       "  max-width: 100%;\n",
       "  overflow: auto;\n",
       "}\n",
       "\n",
       "#sk-container-id-9 input.sk-toggleable__control:checked~label.sk-toggleable__label-arrow:before {\n",
       "  content: \"▾\";\n",
       "}\n",
       "\n",
       "/* Pipeline/ColumnTransformer-specific style */\n",
       "\n",
       "#sk-container-id-9 div.sk-label input.sk-toggleable__control:checked~label.sk-toggleable__label {\n",
       "  color: var(--sklearn-color-text);\n",
       "  background-color: var(--sklearn-color-unfitted-level-2);\n",
       "}\n",
       "\n",
       "#sk-container-id-9 div.sk-label.fitted input.sk-toggleable__control:checked~label.sk-toggleable__label {\n",
       "  background-color: var(--sklearn-color-fitted-level-2);\n",
       "}\n",
       "\n",
       "/* Estimator-specific style */\n",
       "\n",
       "/* Colorize estimator box */\n",
       "#sk-container-id-9 div.sk-estimator input.sk-toggleable__control:checked~label.sk-toggleable__label {\n",
       "  /* unfitted */\n",
       "  background-color: var(--sklearn-color-unfitted-level-2);\n",
       "}\n",
       "\n",
       "#sk-container-id-9 div.sk-estimator.fitted input.sk-toggleable__control:checked~label.sk-toggleable__label {\n",
       "  /* fitted */\n",
       "  background-color: var(--sklearn-color-fitted-level-2);\n",
       "}\n",
       "\n",
       "#sk-container-id-9 div.sk-label label.sk-toggleable__label,\n",
       "#sk-container-id-9 div.sk-label label {\n",
       "  /* The background is the default theme color */\n",
       "  color: var(--sklearn-color-text-on-default-background);\n",
       "}\n",
       "\n",
       "/* On hover, darken the color of the background */\n",
       "#sk-container-id-9 div.sk-label:hover label.sk-toggleable__label {\n",
       "  color: var(--sklearn-color-text);\n",
       "  background-color: var(--sklearn-color-unfitted-level-2);\n",
       "}\n",
       "\n",
       "/* Label box, darken color on hover, fitted */\n",
       "#sk-container-id-9 div.sk-label.fitted:hover label.sk-toggleable__label.fitted {\n",
       "  color: var(--sklearn-color-text);\n",
       "  background-color: var(--sklearn-color-fitted-level-2);\n",
       "}\n",
       "\n",
       "/* Estimator label */\n",
       "\n",
       "#sk-container-id-9 div.sk-label label {\n",
       "  font-family: monospace;\n",
       "  font-weight: bold;\n",
       "  display: inline-block;\n",
       "  line-height: 1.2em;\n",
       "}\n",
       "\n",
       "#sk-container-id-9 div.sk-label-container {\n",
       "  text-align: center;\n",
       "}\n",
       "\n",
       "/* Estimator-specific */\n",
       "#sk-container-id-9 div.sk-estimator {\n",
       "  font-family: monospace;\n",
       "  border: 1px dotted var(--sklearn-color-border-box);\n",
       "  border-radius: 0.25em;\n",
       "  box-sizing: border-box;\n",
       "  margin-bottom: 0.5em;\n",
       "  /* unfitted */\n",
       "  background-color: var(--sklearn-color-unfitted-level-0);\n",
       "}\n",
       "\n",
       "#sk-container-id-9 div.sk-estimator.fitted {\n",
       "  /* fitted */\n",
       "  background-color: var(--sklearn-color-fitted-level-0);\n",
       "}\n",
       "\n",
       "/* on hover */\n",
       "#sk-container-id-9 div.sk-estimator:hover {\n",
       "  /* unfitted */\n",
       "  background-color: var(--sklearn-color-unfitted-level-2);\n",
       "}\n",
       "\n",
       "#sk-container-id-9 div.sk-estimator.fitted:hover {\n",
       "  /* fitted */\n",
       "  background-color: var(--sklearn-color-fitted-level-2);\n",
       "}\n",
       "\n",
       "/* Specification for estimator info (e.g. \"i\" and \"?\") */\n",
       "\n",
       "/* Common style for \"i\" and \"?\" */\n",
       "\n",
       ".sk-estimator-doc-link,\n",
       "a:link.sk-estimator-doc-link,\n",
       "a:visited.sk-estimator-doc-link {\n",
       "  float: right;\n",
       "  font-size: smaller;\n",
       "  line-height: 1em;\n",
       "  font-family: monospace;\n",
       "  background-color: var(--sklearn-color-background);\n",
       "  border-radius: 1em;\n",
       "  height: 1em;\n",
       "  width: 1em;\n",
       "  text-decoration: none !important;\n",
       "  margin-left: 0.5em;\n",
       "  text-align: center;\n",
       "  /* unfitted */\n",
       "  border: var(--sklearn-color-unfitted-level-1) 1pt solid;\n",
       "  color: var(--sklearn-color-unfitted-level-1);\n",
       "}\n",
       "\n",
       ".sk-estimator-doc-link.fitted,\n",
       "a:link.sk-estimator-doc-link.fitted,\n",
       "a:visited.sk-estimator-doc-link.fitted {\n",
       "  /* fitted */\n",
       "  border: var(--sklearn-color-fitted-level-1) 1pt solid;\n",
       "  color: var(--sklearn-color-fitted-level-1);\n",
       "}\n",
       "\n",
       "/* On hover */\n",
       "div.sk-estimator:hover .sk-estimator-doc-link:hover,\n",
       ".sk-estimator-doc-link:hover,\n",
       "div.sk-label-container:hover .sk-estimator-doc-link:hover,\n",
       ".sk-estimator-doc-link:hover {\n",
       "  /* unfitted */\n",
       "  background-color: var(--sklearn-color-unfitted-level-3);\n",
       "  color: var(--sklearn-color-background);\n",
       "  text-decoration: none;\n",
       "}\n",
       "\n",
       "div.sk-estimator.fitted:hover .sk-estimator-doc-link.fitted:hover,\n",
       ".sk-estimator-doc-link.fitted:hover,\n",
       "div.sk-label-container:hover .sk-estimator-doc-link.fitted:hover,\n",
       ".sk-estimator-doc-link.fitted:hover {\n",
       "  /* fitted */\n",
       "  background-color: var(--sklearn-color-fitted-level-3);\n",
       "  color: var(--sklearn-color-background);\n",
       "  text-decoration: none;\n",
       "}\n",
       "\n",
       "/* Span, style for the box shown on hovering the info icon */\n",
       ".sk-estimator-doc-link span {\n",
       "  display: none;\n",
       "  z-index: 9999;\n",
       "  position: relative;\n",
       "  font-weight: normal;\n",
       "  right: .2ex;\n",
       "  padding: .5ex;\n",
       "  margin: .5ex;\n",
       "  width: min-content;\n",
       "  min-width: 20ex;\n",
       "  max-width: 50ex;\n",
       "  color: var(--sklearn-color-text);\n",
       "  box-shadow: 2pt 2pt 4pt #999;\n",
       "  /* unfitted */\n",
       "  background: var(--sklearn-color-unfitted-level-0);\n",
       "  border: .5pt solid var(--sklearn-color-unfitted-level-3);\n",
       "}\n",
       "\n",
       ".sk-estimator-doc-link.fitted span {\n",
       "  /* fitted */\n",
       "  background: var(--sklearn-color-fitted-level-0);\n",
       "  border: var(--sklearn-color-fitted-level-3);\n",
       "}\n",
       "\n",
       ".sk-estimator-doc-link:hover span {\n",
       "  display: block;\n",
       "}\n",
       "\n",
       "/* \"?\"-specific style due to the `<a>` HTML tag */\n",
       "\n",
       "#sk-container-id-9 a.estimator_doc_link {\n",
       "  float: right;\n",
       "  font-size: 1rem;\n",
       "  line-height: 1em;\n",
       "  font-family: monospace;\n",
       "  background-color: var(--sklearn-color-background);\n",
       "  border-radius: 1rem;\n",
       "  height: 1rem;\n",
       "  width: 1rem;\n",
       "  text-decoration: none;\n",
       "  /* unfitted */\n",
       "  color: var(--sklearn-color-unfitted-level-1);\n",
       "  border: var(--sklearn-color-unfitted-level-1) 1pt solid;\n",
       "}\n",
       "\n",
       "#sk-container-id-9 a.estimator_doc_link.fitted {\n",
       "  /* fitted */\n",
       "  border: var(--sklearn-color-fitted-level-1) 1pt solid;\n",
       "  color: var(--sklearn-color-fitted-level-1);\n",
       "}\n",
       "\n",
       "/* On hover */\n",
       "#sk-container-id-9 a.estimator_doc_link:hover {\n",
       "  /* unfitted */\n",
       "  background-color: var(--sklearn-color-unfitted-level-3);\n",
       "  color: var(--sklearn-color-background);\n",
       "  text-decoration: none;\n",
       "}\n",
       "\n",
       "#sk-container-id-9 a.estimator_doc_link.fitted:hover {\n",
       "  /* fitted */\n",
       "  background-color: var(--sklearn-color-fitted-level-3);\n",
       "}\n",
       "</style><div id=\"sk-container-id-9\" class=\"sk-top-container\"><div class=\"sk-text-repr-fallback\"><pre>LinearRegression()</pre><b>In a Jupyter environment, please rerun this cell to show the HTML representation or trust the notebook. <br />On GitHub, the HTML representation is unable to render, please try loading this page with nbviewer.org.</b></div><div class=\"sk-container\" hidden><div class=\"sk-item\"><div class=\"sk-estimator fitted sk-toggleable\"><input class=\"sk-toggleable__control sk-hidden--visually\" id=\"sk-estimator-id-9\" type=\"checkbox\" checked><label for=\"sk-estimator-id-9\" class=\"sk-toggleable__label fitted sk-toggleable__label-arrow\"><div><div>LinearRegression</div></div><div><a class=\"sk-estimator-doc-link fitted\" rel=\"noreferrer\" target=\"_blank\" href=\"https://scikit-learn.org/1.6/modules/generated/sklearn.linear_model.LinearRegression.html\">?<span>Documentation for LinearRegression</span></a><span class=\"sk-estimator-doc-link fitted\">i<span>Fitted</span></span></div></label><div class=\"sk-toggleable__content fitted\"><pre>LinearRegression()</pre></div> </div></div></div></div>"
      ],
      "text/plain": [
       "LinearRegression()"
      ]
     },
     "execution_count": 298,
     "metadata": {},
     "output_type": "execute_result"
    }
   ],
   "source": [
    "X_train2, X_test2, y_train2, y_test2 = train_test_split(X2, y2, test_size=0.2, random_state=42)\n",
    "model = LinearRegression()\n",
    "model.fit(X_train2, y_train2)"
   ]
  },
  {
   "cell_type": "code",
   "execution_count": 299,
   "metadata": {},
   "outputs": [
    {
     "name": "stdout",
     "output_type": "stream",
     "text": [
      "Mean Squared Error: 1.01\n",
      "R^2 Score: 1.00\n"
     ]
    }
   ],
   "source": [
    "y_pred2 = model.predict(X_test2)\n",
    "mse_modeled = mean_squared_error(y_test2, y_pred2)\n",
    "r2_modeled = r2_score(y_test2, y_pred2)\n",
    "print(f'Mean Squared Error: {mse_modeled:.2f}')\n",
    "print(f'R^2 Score: {r2_modeled:.2f}')"
   ]
  },
  {
   "cell_type": "code",
   "execution_count": 300,
   "metadata": {},
   "outputs": [
    {
     "name": "stdout",
     "output_type": "stream",
     "text": [
      "              Coefficient\n",
      "Open_AAPL   -6.024007e-01\n",
      "High_AAPL    8.297779e-01\n",
      "Low_AAPL     7.722257e-01\n",
      "Volume_AAPL -7.852900e-10\n"
     ]
    }
   ],
   "source": [
    "coefficients = pd.DataFrame(model.coef_, index=X2.columns, columns=['Coefficient'])\n",
    "print(coefficients)"
   ]
  }
 ],
 "metadata": {
  "kernelspec": {
   "display_name": "base",
   "language": "python",
   "name": "python3"
  },
  "language_info": {
   "codemirror_mode": {
    "name": "ipython",
    "version": 3
   },
   "file_extension": ".py",
   "mimetype": "text/x-python",
   "name": "python",
   "nbconvert_exporter": "python",
   "pygments_lexer": "ipython3",
   "version": "3.12.4"
  }
 },
 "nbformat": 4,
 "nbformat_minor": 2
}
